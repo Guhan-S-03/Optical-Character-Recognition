{
 "cells": [
  {
   "cell_type": "markdown",
   "id": "fa62ae7c",
   "metadata": {},
   "source": [
    "#### importing libraries"
   ]
  },
  {
   "cell_type": "code",
   "execution_count": 12,
   "id": "b657bac5",
   "metadata": {},
   "outputs": [],
   "source": [
    "import pandas as pd\n",
    "import numpy as np\n",
    "import matplotlib.pyplot as plt\n",
    "import cv2\n",
    "import os\n",
    "from sklearn.utils import shuffle\n",
    "from sklearn.preprocessing import LabelEncoder\n",
    "from keras.models import Sequential\n",
    "from keras.layers import Conv2D,Flatten,MaxPooling2D,Dense,Dropout"
   ]
  },
  {
   "cell_type": "code",
   "execution_count": 2,
   "id": "ced50424",
   "metadata": {},
   "outputs": [],
   "source": [
    " path='data/training_data'"
   ]
  },
  {
   "cell_type": "markdown",
   "id": "670d712d",
   "metadata": {},
   "source": [
    "#### reading images using cv2"
   ]
  },
  {
   "cell_type": "code",
   "execution_count": 3,
   "id": "fc59497a",
   "metadata": {},
   "outputs": [],
   "source": [
    "images=[]\n",
    "labels=[]\n",
    "\n",
    "listofdir=os.listdir(path)\n",
    "for i in listofdir:\n",
    "    dir=os.path.join(path,i)\n",
    "    listofimg=os.listdir(dir)\n",
    "    for j in listofimg:\n",
    "        file=os.path.join(dir,j)\n",
    "        img=cv2.imread(file)\n",
    "        img=cv2.resize(img,(64,64))\n",
    "        img=np.array(img,dtype=np.float32)\n",
    "        img=img/255\n",
    "        images.append(img)\n",
    "        labels.append(i)\n",
    "    "
   ]
  },
  {
   "cell_type": "markdown",
   "id": "3166b230",
   "metadata": {},
   "source": [
    "#### displaying readed image"
   ]
  },
  {
   "cell_type": "code",
   "execution_count": 4,
   "id": "9310e84e",
   "metadata": {},
   "outputs": [
    {
     "data": {
      "image/png": "[encoded data removed]",
      "text/plain": [
       "<Figure size 640x480 with 1 Axes>"
      ]
     },
     "metadata": {},
     "output_type": "display_data"
    }
   ],
   "source": [
    "plt.imshow(images[450])\n",
    "plt.title(f\"label:{labels[450]}\")\n",
    "plt.show()"
   ]
  },
  {
   "cell_type": "markdown",
   "id": "da3aa267",
   "metadata": {},
   "source": [
    "#### converting it to numpy array inorder to make it as input for cnn model"
   ]
  },
  {
   "cell_type": "code",
   "execution_count": 5,
   "id": "cecb54b2",
   "metadata": {},
   "outputs": [],
   "source": [
    "x=np.array(images)\n",
    "y=np.array(labels)"
   ]
  },
  {
   "cell_type": "code",
   "execution_count": 6,
   "id": "69063d46",
   "metadata": {},
   "outputs": [
    {
     "data": {
      "text/plain": [
       "(20628, 64, 64, 3)"
      ]
     },
     "execution_count": 6,
     "metadata": {},
     "output_type": "execute_result"
    }
   ],
   "source": [
    "x.shape"
   ]
  },
  {
   "cell_type": "code",
   "execution_count": 7,
   "id": "aa270252",
   "metadata": {},
   "outputs": [
    {
     "data": {
      "text/plain": [
       "(20628,)"
      ]
     },
     "execution_count": 7,
     "metadata": {},
     "output_type": "execute_result"
    }
   ],
   "source": [
    "y.shape"
   ]
  },
  {
   "cell_type": "markdown",
   "id": "ef8c6b3d",
   "metadata": {},
   "source": [
    "#### encoding the labels to give unique label for characters "
   ]
  },
  {
   "cell_type": "code",
   "execution_count": 8,
   "id": "b4249664",
   "metadata": {},
   "outputs": [],
   "source": [
    "encoder=LabelEncoder()\n",
    "y=encoder.fit_transform(y)"
   ]
  },
  {
   "cell_type": "code",
   "execution_count": 9,
   "id": "1f010868",
   "metadata": {},
   "outputs": [
    {
     "data": {
      "text/plain": [
       "36"
      ]
     },
     "execution_count": 9,
     "metadata": {},
     "output_type": "execute_result"
    }
   ],
   "source": [
    "len(set(y))"
   ]
  },
  {
   "cell_type": "code",
   "execution_count": 10,
   "id": "7ffd7177",
   "metadata": {},
   "outputs": [],
   "source": [
    "shuffled_x,shuffled_y=shuffle(x,y,random_state=42)"
   ]
  },
  {
   "cell_type": "markdown",
   "id": "4ebc28c7",
   "metadata": {},
   "source": [
    "#### after shuffling pass it to cnn model"
   ]
  },
  {
   "cell_type": "code",
   "execution_count": 13,
   "id": "a090cd17",
   "metadata": {},
   "outputs": [],
   "source": [
    "model = Sequential()\n",
    "model.add(Conv2D(filters=16, kernel_size=(3,3), activation='relu', input_shape=(64,64,3)))\n",
    "model.add(MaxPooling2D(pool_size=(2, 2)))\n",
    "model.add(Conv2D(filters=32, kernel_size=(3,3),  activation='relu'))\n",
    "model.add(MaxPooling2D(pool_size=(2, 2)))\n",
    "model.add(Conv2D(filters=64, kernel_size=(3,3),  activation='relu'))\n",
    "model.add(MaxPooling2D(pool_size=(2, 2)))\n",
    "model.add(Conv2D(filters=128, kernel_size=(3,3), activation='relu'))\n",
    "model.add(Flatten())\n",
    "model.add(Dense(units=256, activation='relu'))\n",
    "model.add(Dropout(0.5))\n",
    "model.add(Dense(units=128, activation='relu'))\n",
    "model.add(Dropout(0.3))\n",
    "model.add(Dense(units=36, activation='softmax'))"
   ]
  },
  {
   "cell_type": "code",
   "execution_count": 14,
   "id": "16e360bb",
   "metadata": {},
   "outputs": [],
   "source": [
    "model.compile(optimizer='adam', loss='sparse_categorical_crossentropy', metrics = ['accuracy'])"
   ]
  },
  {
   "cell_type": "markdown",
   "id": "e51dc78a",
   "metadata": {},
   "source": [
    "#### training the model"
   ]
  },
  {
   "cell_type": "code",
   "execution_count": 15,
   "id": "0b96fd2a",
   "metadata": {},
   "outputs": [
    {
     "name": "stdout",
     "output_type": "stream",
     "text": [
      "Epoch 1/10\n",
      "1032/1032 [==============================] - 39s 35ms/step - loss: 1.1130 - accuracy: 0.6828 - val_loss: 0.2573 - val_accuracy: 0.9239\n",
      "Epoch 2/10\n",
      "1032/1032 [==============================] - 43s 41ms/step - loss: 0.3038 - accuracy: 0.9089 - val_loss: 0.2190 - val_accuracy: 0.9292\n",
      "Epoch 3/10\n",
      "1032/1032 [==============================] - 41s 39ms/step - loss: 0.2168 - accuracy: 0.9299 - val_loss: 0.1813 - val_accuracy: 0.9411\n",
      "Epoch 4/10\n",
      "1032/1032 [==============================] - 40s 39ms/step - loss: 0.1816 - accuracy: 0.9412 - val_loss: 0.1680 - val_accuracy: 0.9440\n",
      "Epoch 5/10\n",
      "1032/1032 [==============================] - 41s 39ms/step - loss: 0.1469 - accuracy: 0.9493 - val_loss: 0.1629 - val_accuracy: 0.9544\n",
      "Epoch 6/10\n",
      "1032/1032 [==============================] - 41s 39ms/step - loss: 0.1412 - accuracy: 0.9529 - val_loss: 0.1541 - val_accuracy: 0.9520\n",
      "Epoch 7/10\n",
      "1032/1032 [==============================] - 40s 39ms/step - loss: 0.1142 - accuracy: 0.9593 - val_loss: 0.1812 - val_accuracy: 0.9503\n",
      "Epoch 8/10\n",
      "1032/1032 [==============================] - 41s 39ms/step - loss: 0.1127 - accuracy: 0.9624 - val_loss: 0.1766 - val_accuracy: 0.9581\n",
      "Epoch 9/10\n",
      "1032/1032 [==============================] - 41s 40ms/step - loss: 0.1015 - accuracy: 0.9656 - val_loss: 0.1524 - val_accuracy: 0.9569\n",
      "Epoch 10/10\n",
      "1032/1032 [==============================] - 41s 40ms/step - loss: 0.0987 - accuracy: 0.9644 - val_loss: 0.1624 - val_accuracy: 0.9583\n"
     ]
    }
   ],
   "source": [
    "history = model.fit(shuffled_x, shuffled_y ,validation_split=0.2, batch_size=16, epochs=10)"
   ]
  },
  {
   "cell_type": "markdown",
   "id": "4f35dd5e",
   "metadata": {},
   "source": [
    "#### ploting the loss and val_loss "
   ]
  },
  {
   "cell_type": "code",
   "execution_count": 16,
   "id": "8cdcd47e",
   "metadata": {},
   "outputs": [
    {
     "data": {
      "text/plain": [
       "<matplotlib.legend.Legend at 0x2a34c57acd0>"
      ]
     },
     "execution_count": 16,
     "metadata": {},
     "output_type": "execute_result"
    },
    {
     "data": {
      "image/png": "[encoded data removed]",
      "text/plain": [
       "<Figure size 640x480 with 1 Axes>"
      ]
     },
     "metadata": {},
     "output_type": "display_data"
    }
   ],
   "source": [
    "plt.plot(history.history['loss'])\n",
    "plt.plot(history.history['val_loss'])\n",
    "plt.legend(['loss', 'val_loss'])"
   ]
  },
  {
   "cell_type": "markdown",
   "id": "20ea7446",
   "metadata": {},
   "source": [
    "#### reading the test dataset and converting to np array for model prediction"
   ]
  },
  {
   "cell_type": "code",
   "execution_count": 17,
   "id": "ea7f1fc5",
   "metadata": {},
   "outputs": [],
   "source": [
    "test_images=[]\n",
    "test_labels=[]\n",
    "\n",
    "path='data/testing_data'\n",
    "\n",
    "listofdir=os.listdir(path)\n",
    "for i in listofdir:\n",
    "    dir=os.path.join(path,i)\n",
    "    listofimg=os.listdir(dir)\n",
    "    for j in listofimg:\n",
    "        file=os.path.join(dir,j)\n",
    "        img=cv2.imread(file)\n",
    "        img=cv2.resize(img,(64,64))\n",
    "        img=np.array(img,dtype=np.float32)\n",
    "        img=img/255\n",
    "        test_images.append(img)\n",
    "        test_labels.append(i)\n",
    "    "
   ]
  },
  {
   "cell_type": "code",
   "execution_count": 18,
   "id": "26cf957e",
   "metadata": {},
   "outputs": [],
   "source": [
    "x_test=np.array(test_images)\n",
    "y_test=np.array(test_labels)"
   ]
  },
  {
   "cell_type": "code",
   "execution_count": 19,
   "id": "fc257b05",
   "metadata": {},
   "outputs": [],
   "source": [
    "y_test=encoder.fit_transform(y_test)"
   ]
  },
  {
   "cell_type": "code",
   "execution_count": 20,
   "id": "2317ab75",
   "metadata": {},
   "outputs": [
    {
     "data": {
      "text/plain": [
       "(1008, 64, 64, 3)"
      ]
     },
     "execution_count": 20,
     "metadata": {},
     "output_type": "execute_result"
    }
   ],
   "source": [
    "x_test.shape"
   ]
  },
  {
   "cell_type": "markdown",
   "id": "a8bfd945",
   "metadata": {},
   "source": [
    "#### predicting the value of the test dataset"
   ]
  },
  {
   "cell_type": "code",
   "execution_count": 21,
   "id": "9f8c28ef",
   "metadata": {},
   "outputs": [
    {
     "name": "stdout",
     "output_type": "stream",
     "text": [
      "32/32 [==============================] - 1s 17ms/step\n"
     ]
    }
   ],
   "source": [
    "predicted_val=model.predict(x_test)"
   ]
  },
  {
   "cell_type": "code",
   "execution_count": 22,
   "id": "bdca196a",
   "metadata": {},
   "outputs": [
    {
     "data": {
      "text/plain": [
       "(1008, 36)"
      ]
     },
     "execution_count": 22,
     "metadata": {},
     "output_type": "execute_result"
    }
   ],
   "source": [
    "predicted_val.shape"
   ]
  },
  {
   "cell_type": "code",
   "execution_count": 23,
   "id": "e692ae06",
   "metadata": {},
   "outputs": [],
   "source": [
    "predicted_labels = encoder.inverse_transform(np.argmax(predicted_val, axis=1))"
   ]
  },
  {
   "cell_type": "markdown",
   "id": "7b30b2e1",
   "metadata": {},
   "source": [
    "#### displaying the predicted character"
   ]
  },
  {
   "cell_type": "code",
   "execution_count": 24,
   "id": "26246333",
   "metadata": {},
   "outputs": [
    {
     "data": {
      "image/png": "[encoded data removed]",
      "text/plain": [
       "<Figure size 640x480 with 1 Axes>"
      ]
     },
     "metadata": {},
     "output_type": "display_data"
    }
   ],
   "source": [
    "plt.imshow(x_test[650])\n",
    "plt.title(f\"Label: {predicted_labels[650]}\")\n",
    "plt.show()"
   ]
  },
  {
   "cell_type": "code",
   "execution_count": 25,
   "id": "9c515217",
   "metadata": {},
   "outputs": [
    {
     "name": "stdout",
     "output_type": "stream",
     "text": [
      "32/32 [==============================] - 1s 19ms/step - loss: 0.0323 - accuracy: 0.9891\n",
      "Test Accuracy: 0.9890872836112976\n"
     ]
    }
   ],
   "source": [
    "test_loss, test_accuracy = model.evaluate(x_test, y_test)\n",
    "print(f\"Test Accuracy: {test_accuracy}\")"
   ]
  }
 ],
 "metadata": {
  "kernelspec": {
   "display_name": "Python 3 (ipykernel)",
   "language": "python",
   "name": "python3"
  },
  "language_info": {
   "codemirror_mode": {
    "name": "ipython",
    "version": 3
   },
   "file_extension": ".py",
   "mimetype": "text/x-python",
   "name": "python",
   "nbconvert_exporter": "python",
   "pygments_lexer": "ipython3",
   "version": "3.11.5"
  }
 },
 "nbformat": 4,
 "nbformat_minor": 5
}
